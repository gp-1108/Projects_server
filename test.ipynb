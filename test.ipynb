{
 "cells": [
  {
   "cell_type": "code",
   "execution_count": 1,
   "metadata": {},
   "outputs": [],
   "source": [
    "from flask import request, jsonify\n",
    "import base64\n",
    "import io\n",
    "from PIL import Image\n",
    "from ultralytics import YOLO"
   ]
  },
  {
   "cell_type": "code",
   "execution_count": 4,
   "metadata": {},
   "outputs": [
    {
     "name": "stdout",
     "output_type": "stream",
     "text": [
      "Loading models/best.onnx for ONNX Runtime inference...\n",
      "\n",
      "0: 640x640 2 persons, 1554.4ms\n",
      "Speed: 3.4ms preprocess, 1554.4ms inference, 10.4ms postprocess per image at shape (1, 3, 640, 640)\n"
     ]
    }
   ],
   "source": [
    "img = Image.open(\"zidane.jpg\")\n",
    "# Making it smaller for faster processing\n",
    "W, H = img.size\n",
    "max_size = 300\n",
    "# Calculate the scaling factor\n",
    "scaling_factor = min(max_size / W, max_size / H)\n",
    "new_size = (int(W * scaling_factor), int(H * scaling_factor))\n",
    "img = img.resize(new_size)\n",
    "W, H = img.size\n",
    "\n",
    "# Load the model and process the image\n",
    "model = YOLO(\"./models/best.onnx\", task=\"segment\")\n",
    "result = model.predict(img)[0]\n",
    "np_output = result.plot(\n",
    "    boxes=False,\n",
    "    color_mode=\"instance\"\n",
    ")"
   ]
  },
  {
   "cell_type": "code",
   "execution_count": 5,
   "metadata": {},
   "outputs": [
    {
     "data": {
      "text/plain": [
       "array([[[71, 75, 90],\n",
       "        [71, 75, 90],\n",
       "        [74, 78, 92],\n",
       "        ...,\n",
       "        [73, 66, 88],\n",
       "        [66, 62, 84],\n",
       "        [61, 59, 80]],\n",
       "\n",
       "       [[41, 48, 74],\n",
       "        [42, 49, 75],\n",
       "        [45, 52, 77],\n",
       "        ...,\n",
       "        [45, 32, 73],\n",
       "        [32, 25, 65],\n",
       "        [23, 19, 59]],\n",
       "\n",
       "       [[45, 52, 77],\n",
       "        [46, 53, 79],\n",
       "        [48, 55, 79],\n",
       "        ...,\n",
       "        [48, 33, 80],\n",
       "        [37, 29, 73],\n",
       "        [27, 21, 65]],\n",
       "\n",
       "       ...,\n",
       "\n",
       "       [[39, 39, 34],\n",
       "        [37, 36, 33],\n",
       "        [38, 36, 39],\n",
       "        ...,\n",
       "        [54, 54, 41],\n",
       "        [53, 53, 40],\n",
       "        [50, 50, 39]],\n",
       "\n",
       "       [[47, 41, 37],\n",
       "        [43, 38, 36],\n",
       "        [44, 36, 40],\n",
       "        ...,\n",
       "        [53, 53, 41],\n",
       "        [53, 53, 39],\n",
       "        [53, 53, 39]],\n",
       "\n",
       "       [[49, 40, 37],\n",
       "        [47, 37, 37],\n",
       "        [47, 36, 41],\n",
       "        ...,\n",
       "        [51, 52, 39],\n",
       "        [50, 50, 39],\n",
       "        [49, 49, 38]]], dtype=uint8)"
      ]
     },
     "execution_count": 5,
     "metadata": {},
     "output_type": "execute_result"
    }
   ],
   "source": [
    "np_output = np_output.astype(\"uint8\")\n",
    "np_output"
   ]
  },
  {
   "cell_type": "code",
   "execution_count": 7,
   "metadata": {},
   "outputs": [],
   "source": [
    "img = Image.fromarray(np_output).convert(\"RGB\")\n",
    "img.show()"
   ]
  },
  {
   "cell_type": "code",
   "execution_count": null,
   "metadata": {},
   "outputs": [],
   "source": []
  }
 ],
 "metadata": {
  "kernelspec": {
   "display_name": "Python 3",
   "language": "python",
   "name": "python3"
  },
  "language_info": {
   "codemirror_mode": {
    "name": "ipython",
    "version": 3
   },
   "file_extension": ".py",
   "mimetype": "text/x-python",
   "name": "python",
   "nbconvert_exporter": "python",
   "pygments_lexer": "ipython3",
   "version": "3.12.4"
  }
 },
 "nbformat": 4,
 "nbformat_minor": 2
}
